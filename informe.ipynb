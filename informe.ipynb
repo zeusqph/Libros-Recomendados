{
 "cells": [
  {
   "cell_type": "code",
   "execution_count": 1,
   "metadata": {},
   "outputs": [],
   "source": [
    "import pandas as pd \n",
    "import matplotlib.pyplot as plt"
   ]
  },
  {
   "cell_type": "markdown",
   "metadata": {},
   "source": [
    "Un breve informacion sobre los tados del dataframe\n"
   ]
  },
  {
   "cell_type": "code",
   "execution_count": 7,
   "metadata": {},
   "outputs": [],
   "source": [
    "df=pd.read_csv('archivo/data.csv')\n"
   ]
  },
  {
   "cell_type": "markdown",
   "metadata": {},
   "source": [
    "Un resumen sobre los tipos de datos que tiene , las columnas, cuantos valores nulos hay."
   ]
  },
  {
   "cell_type": "code",
   "execution_count": 3,
   "metadata": {},
   "outputs": [
    {
     "name": "stdout",
     "output_type": "stream",
     "text": [
      "<class 'pandas.core.frame.DataFrame'>\n",
      "RangeIndex: 6810 entries, 0 to 6809\n",
      "Data columns (total 12 columns):\n",
      " #   Column          Non-Null Count  Dtype  \n",
      "---  ------          --------------  -----  \n",
      " 0   isbn13          6810 non-null   int64  \n",
      " 1   isbn10          6810 non-null   object \n",
      " 2   title           6810 non-null   object \n",
      " 3   subtitle        2381 non-null   object \n",
      " 4   authors         6738 non-null   object \n",
      " 5   categories      6711 non-null   object \n",
      " 6   thumbnail       6481 non-null   object \n",
      " 7   description     6548 non-null   object \n",
      " 8   published_year  6804 non-null   float64\n",
      " 9   average_rating  6767 non-null   float64\n",
      " 10  num_pages       6767 non-null   float64\n",
      " 11  ratings_count   6767 non-null   float64\n",
      "dtypes: float64(4), int64(1), object(7)\n",
      "memory usage: 638.6+ KB\n"
     ]
    }
   ],
   "source": [
    "df.info()"
   ]
  },
  {
   "cell_type": "markdown",
   "metadata": {},
   "source": [
    "Podemos ver los valores nulos en las columnas ."
   ]
  },
  {
   "cell_type": "code",
   "execution_count": 5,
   "metadata": {},
   "outputs": [
    {
     "name": "stdout",
     "output_type": "stream",
     "text": [
      "isbn13               0\n",
      "isbn10               0\n",
      "title                0\n",
      "subtitle          4429\n",
      "authors             72\n",
      "categories          99\n",
      "thumbnail          329\n",
      "description        262\n",
      "published_year       6\n",
      "average_rating      43\n",
      "num_pages           43\n",
      "ratings_count       43\n",
      "dtype: int64\n"
     ]
    }
   ],
   "source": [
    "print(df.isna().sum())"
   ]
  },
  {
   "cell_type": "markdown",
   "metadata": {},
   "source": [
    "Lo siguiente es :\n",
    "1. Limpieza de datos en los valores nulos con pandas.\n",
    "2. Reemplazar el tipo de dato a la columna correspondiente(published_year,num_pages,ratings_count) , esta en valores flotantes, corregir esos tipos de datos.\n",
    "3. Llevarlos a graficos.\n",
    "4. Llevarlos a PowerBi.\n"
   ]
  },
  {
   "cell_type": "markdown",
   "metadata": {},
   "source": [
    "En graficos podria tener:\n",
    "1. ¿Cual fue el libro con mas raiting?\n",
    "2. ¿Cual fue el libro con menos raiting?\n",
    "3. ¿Cual fue el libro con mas calificaciones?\n",
    "4. ¿Cual es el Autor con mayor libros publicados?"
   ]
  },
  {
   "cell_type": "code",
   "execution_count": 73,
   "metadata": {},
   "outputs": [
    {
     "data": {
      "text/html": [
       "<div>\n",
       "<style scoped>\n",
       "    .dataframe tbody tr th:only-of-type {\n",
       "        vertical-align: middle;\n",
       "    }\n",
       "\n",
       "    .dataframe tbody tr th {\n",
       "        vertical-align: top;\n",
       "    }\n",
       "\n",
       "    .dataframe thead th {\n",
       "        text-align: right;\n",
       "    }\n",
       "</style>\n",
       "<table border=\"1\" class=\"dataframe\">\n",
       "  <thead>\n",
       "    <tr style=\"text-align: right;\">\n",
       "      <th></th>\n",
       "      <th>isbn13</th>\n",
       "      <th>isbn10</th>\n",
       "      <th>title</th>\n",
       "      <th>subtitle</th>\n",
       "      <th>authors</th>\n",
       "      <th>categories</th>\n",
       "      <th>thumbnail</th>\n",
       "      <th>description</th>\n",
       "      <th>published_year</th>\n",
       "      <th>average_rating</th>\n",
       "      <th>num_pages</th>\n",
       "      <th>ratings_count</th>\n",
       "    </tr>\n",
       "  </thead>\n",
       "  <tbody>\n",
       "    <tr>\n",
       "      <th>5036</th>\n",
       "      <td>9780805077810</td>\n",
       "      <td>0</td>\n",
       "      <td>The Nubian Prince</td>\n",
       "      <td>A Novel</td>\n",
       "      <td>Juan Bonilla</td>\n",
       "      <td>Fiction</td>\n",
       "      <td>http://books.google.com/books/content?id=TS3oZ...</td>\n",
       "      <td>A comic odyssey of a hapless hero ensnared by ...</td>\n",
       "      <td>2006</td>\n",
       "      <td>3.56</td>\n",
       "      <td>258</td>\n",
       "      <td>61</td>\n",
       "    </tr>\n",
       "    <tr>\n",
       "      <th>4988</th>\n",
       "      <td>9780802714626</td>\n",
       "      <td>0</td>\n",
       "      <td>Longitude</td>\n",
       "      <td>The True Story of a Lone Genius Who Solved the...</td>\n",
       "      <td>Dava Sobel;Neil Armstrong</td>\n",
       "      <td>Science</td>\n",
       "      <td>http://books.google.com/books/content?id=0v6DB...</td>\n",
       "      <td>Describes the forty-year effort of John Harris...</td>\n",
       "      <td>2005</td>\n",
       "      <td>3.96</td>\n",
       "      <td>192</td>\n",
       "      <td>43661</td>\n",
       "    </tr>\n",
       "    <tr>\n",
       "      <th>3046</th>\n",
       "      <td>9780451525260</td>\n",
       "      <td>0</td>\n",
       "      <td>Les Miserables a New Unabridged Translation</td>\n",
       "      <td>No subtitle</td>\n",
       "      <td>Victor Hugo</td>\n",
       "      <td>Fiction</td>\n",
       "      <td>http://books.google.com/books/content?id=x1mNs...</td>\n",
       "      <td>After nineteen years in prison, Jean Valjean h...</td>\n",
       "      <td>1987</td>\n",
       "      <td>4.16</td>\n",
       "      <td>1463</td>\n",
       "      <td>559595</td>\n",
       "    </tr>\n",
       "    <tr>\n",
       "      <th>4688</th>\n",
       "      <td>9780764226465</td>\n",
       "      <td>0</td>\n",
       "      <td>A Higher Justice</td>\n",
       "      <td>No subtitle</td>\n",
       "      <td>James Scott Bell</td>\n",
       "      <td>Fiction</td>\n",
       "      <td>http://books.google.com/books/content?id=j6ENA...</td>\n",
       "      <td>A case involving a trolley accident pits Kit a...</td>\n",
       "      <td>2003</td>\n",
       "      <td>4.23</td>\n",
       "      <td>303</td>\n",
       "      <td>167</td>\n",
       "    </tr>\n",
       "    <tr>\n",
       "      <th>1315</th>\n",
       "      <td>9780231082815</td>\n",
       "      <td>0</td>\n",
       "      <td>Three Plays by Kobo Abe</td>\n",
       "      <td>No subtitle</td>\n",
       "      <td>Kōbō Abe</td>\n",
       "      <td>Fiction</td>\n",
       "      <td>http://books.google.com/books/content?id=D9Ggn...</td>\n",
       "      <td>Three plays by one of contemporary Japan's mos...</td>\n",
       "      <td>1993</td>\n",
       "      <td>3.91</td>\n",
       "      <td>233</td>\n",
       "      <td>76</td>\n",
       "    </tr>\n",
       "  </tbody>\n",
       "</table>\n",
       "</div>"
      ],
      "text/plain": [
       "             isbn13  isbn10                                        title  \\\n",
       "5036  9780805077810       0                            The Nubian Prince   \n",
       "4988  9780802714626       0                                    Longitude   \n",
       "3046  9780451525260       0  Les Miserables a New Unabridged Translation   \n",
       "4688  9780764226465       0                             A Higher Justice   \n",
       "1315  9780231082815       0                      Three Plays by Kobo Abe   \n",
       "\n",
       "                                               subtitle  \\\n",
       "5036                                            A Novel   \n",
       "4988  The True Story of a Lone Genius Who Solved the...   \n",
       "3046                                        No subtitle   \n",
       "4688                                        No subtitle   \n",
       "1315                                        No subtitle   \n",
       "\n",
       "                        authors categories  \\\n",
       "5036               Juan Bonilla    Fiction   \n",
       "4988  Dava Sobel;Neil Armstrong    Science   \n",
       "3046                Victor Hugo    Fiction   \n",
       "4688           James Scott Bell    Fiction   \n",
       "1315                   Kōbō Abe    Fiction   \n",
       "\n",
       "                                              thumbnail  \\\n",
       "5036  http://books.google.com/books/content?id=TS3oZ...   \n",
       "4988  http://books.google.com/books/content?id=0v6DB...   \n",
       "3046  http://books.google.com/books/content?id=x1mNs...   \n",
       "4688  http://books.google.com/books/content?id=j6ENA...   \n",
       "1315  http://books.google.com/books/content?id=D9Ggn...   \n",
       "\n",
       "                                            description  published_year  \\\n",
       "5036  A comic odyssey of a hapless hero ensnared by ...            2006   \n",
       "4988  Describes the forty-year effort of John Harris...            2005   \n",
       "3046  After nineteen years in prison, Jean Valjean h...            1987   \n",
       "4688  A case involving a trolley accident pits Kit a...            2003   \n",
       "1315  Three plays by one of contemporary Japan's mos...            1993   \n",
       "\n",
       "      average_rating  num_pages  ratings_count  \n",
       "5036            3.56        258             61  \n",
       "4988            3.96        192          43661  \n",
       "3046            4.16       1463         559595  \n",
       "4688            4.23        303            167  \n",
       "1315            3.91        233             76  "
      ]
     },
     "execution_count": 73,
     "metadata": {},
     "output_type": "execute_result"
    }
   ],
   "source": [
    "df.sample(5)"
   ]
  },
  {
   "cell_type": "markdown",
   "metadata": {},
   "source": [
    "Segun yo creo que esta mal eliminar los datos de una columna , si es que voy a utilzarlos mas adelante, yo me enfocare en hacer un grafico de algunas columnas y eliminarlos alterarria los graficos"
   ]
  },
  {
   "cell_type": "code",
   "execution_count": 9,
   "metadata": {},
   "outputs": [],
   "source": [
    "#hacemos un parametro de mediana en la columna \n",
    "# fillna() necesita que le pasemos un parametro para eso hacemos lo anterior\n",
    "mediana_año=df['published_year'].median()\n",
    "df['published_year']=df['published_year'].fillna(mediana_año).astype(int)"
   ]
  },
  {
   "cell_type": "markdown",
   "metadata": {},
   "source": [
    "Si vamos a convertir varias columnas a medianas o haremos cambios de lo mismo en varias columnas , podemos convertirlos en diccionarios y cambiarlos todo en un solo codigo.\n",
    "Pero no podemos cambiar el tipo de dato en un diccionario.\n"
   ]
  },
  {
   "cell_type": "code",
   "execution_count": 43,
   "metadata": {},
   "outputs": [],
   "source": [
    "medianas ={'published_year':df['published_year'].median(),\n",
    "           'average_rating':df['average_rating'].median(),\n",
    "           'num_pages':df['num_pages'].median(),\n",
    "           'ratings_count':df['ratings_count'].median() \n",
    "}\n",
    "df.fillna(value=medianas,inplace=True)\n",
    "\n",
    "\n",
    "columnas_a_convertir=['published_year','num_pages','ratings_count']\n",
    "\n",
    "df[columnas_a_convertir] = df[columnas_a_convertir].astype(int)\n",
    "\n"
   ]
  },
  {
   "cell_type": "code",
   "execution_count": 58,
   "metadata": {},
   "outputs": [],
   "source": [
    "df['isbn10'] = df['isbn10'].str.replace(r'\\D','',regex=True)\n",
    "\n",
    "df['isbn10'] = pd.to_numeric(df['isbn10'],errors='coerce')\n",
    "\n",
    "df['isbn10'] = df['isbn10'].fillna(0)\n",
    "\n",
    "df['isbn10'] = df['isbn10'].astype(int)\n"
   ]
  },
  {
   "cell_type": "code",
   "execution_count": 21,
   "metadata": {},
   "outputs": [],
   "source": [
    "df['subtitle']=df['subtitle'].fillna('No subtitle')\n",
    "df['authors']=df['authors'].fillna('Unknown authors')\n",
    "df['categories']=df['categories'].fillna('Uncategorized')\n",
    "df['description']=df['description'].fillna('No Description Available')\n",
    "df['thumbnail']=df['thumbnail'].fillna('NaN')"
   ]
  },
  {
   "cell_type": "code",
   "execution_count": null,
   "metadata": {},
   "outputs": [],
   "source": []
  },
  {
   "cell_type": "code",
   "execution_count": 41,
   "metadata": {},
   "outputs": [
    {
     "data": {
      "text/html": [
       "<div>\n",
       "<style scoped>\n",
       "    .dataframe tbody tr th:only-of-type {\n",
       "        vertical-align: middle;\n",
       "    }\n",
       "\n",
       "    .dataframe tbody tr th {\n",
       "        vertical-align: top;\n",
       "    }\n",
       "\n",
       "    .dataframe thead th {\n",
       "        text-align: right;\n",
       "    }\n",
       "</style>\n",
       "<table border=\"1\" class=\"dataframe\">\n",
       "  <thead>\n",
       "    <tr style=\"text-align: right;\">\n",
       "      <th></th>\n",
       "      <th>isbn13</th>\n",
       "      <th>isbn10</th>\n",
       "      <th>title</th>\n",
       "      <th>subtitle</th>\n",
       "      <th>authors</th>\n",
       "      <th>categories</th>\n",
       "      <th>thumbnail</th>\n",
       "      <th>description</th>\n",
       "      <th>published_year</th>\n",
       "      <th>average_rating</th>\n",
       "      <th>num_pages</th>\n",
       "      <th>ratings_count</th>\n",
       "    </tr>\n",
       "  </thead>\n",
       "  <tbody>\n",
       "    <tr>\n",
       "      <th>6628</th>\n",
       "      <td>9781862075948</td>\n",
       "      <td>1862075948</td>\n",
       "      <td>The Collected Tales of Nikolai Gogol</td>\n",
       "      <td>No subtitle</td>\n",
       "      <td>Nikolaĭ Vasilʹevich Gogolʹ;Richard Pevear</td>\n",
       "      <td>Short stories</td>\n",
       "      <td>http://books.google.com/books/content?id=7cNpf...</td>\n",
       "      <td>A new, annotated translation of Gogol's classi...</td>\n",
       "      <td>2003</td>\n",
       "      <td>4.35</td>\n",
       "      <td>435</td>\n",
       "      <td>81</td>\n",
       "    </tr>\n",
       "    <tr>\n",
       "      <th>1052</th>\n",
       "      <td>9780143038108</td>\n",
       "      <td>0143038109</td>\n",
       "      <td>The Kitchen God's Wife</td>\n",
       "      <td>No subtitle</td>\n",
       "      <td>Amy Tan</td>\n",
       "      <td>Fiction</td>\n",
       "      <td>http://books.google.com/books/content?id=n0CzD...</td>\n",
       "      <td>Winnie Louie, an aging Chinese woman convinced...</td>\n",
       "      <td>2006</td>\n",
       "      <td>4.00</td>\n",
       "      <td>416</td>\n",
       "      <td>64285</td>\n",
       "    </tr>\n",
       "    <tr>\n",
       "      <th>6650</th>\n",
       "      <td>9781884365300</td>\n",
       "      <td>1884365302</td>\n",
       "      <td>The Jungle</td>\n",
       "      <td>The Uncensored Original Edition</td>\n",
       "      <td>Upton Sinclair;Kathleen De Grave</td>\n",
       "      <td>Fiction</td>\n",
       "      <td>http://books.google.com/books/content?id=4cY-v...</td>\n",
       "      <td>The horrifying conditions of the Chicago stock...</td>\n",
       "      <td>2003</td>\n",
       "      <td>3.73</td>\n",
       "      <td>335</td>\n",
       "      <td>106675</td>\n",
       "    </tr>\n",
       "    <tr>\n",
       "      <th>4105</th>\n",
       "      <td>9780684841212</td>\n",
       "      <td>0684841215</td>\n",
       "      <td>Something Happened</td>\n",
       "      <td>No subtitle</td>\n",
       "      <td>Joseph Heller</td>\n",
       "      <td>Fiction</td>\n",
       "      <td>http://books.google.com/books/content?id=X-CIL...</td>\n",
       "      <td>Bob Slocum was living the American dream. He h...</td>\n",
       "      <td>1974</td>\n",
       "      <td>3.52</td>\n",
       "      <td>576</td>\n",
       "      <td>5983</td>\n",
       "    </tr>\n",
       "    <tr>\n",
       "      <th>3536</th>\n",
       "      <td>9780553582918</td>\n",
       "      <td>0553582917</td>\n",
       "      <td>Intensity</td>\n",
       "      <td>No subtitle</td>\n",
       "      <td>Dean Ray Koontz</td>\n",
       "      <td>Fiction</td>\n",
       "      <td>http://books.google.com/books/content?id=9X7qX...</td>\n",
       "      <td>The sole survivor of a homicidal sociopath's l...</td>\n",
       "      <td>2000</td>\n",
       "      <td>4.04</td>\n",
       "      <td>436</td>\n",
       "      <td>62698</td>\n",
       "    </tr>\n",
       "  </tbody>\n",
       "</table>\n",
       "</div>"
      ],
      "text/plain": [
       "             isbn13      isbn10                                 title  \\\n",
       "6628  9781862075948  1862075948  The Collected Tales of Nikolai Gogol   \n",
       "1052  9780143038108  0143038109                The Kitchen God's Wife   \n",
       "6650  9781884365300  1884365302                            The Jungle   \n",
       "4105  9780684841212  0684841215                    Something Happened   \n",
       "3536  9780553582918  0553582917                             Intensity   \n",
       "\n",
       "                             subtitle  \\\n",
       "6628                      No subtitle   \n",
       "1052                      No subtitle   \n",
       "6650  The Uncensored Original Edition   \n",
       "4105                      No subtitle   \n",
       "3536                      No subtitle   \n",
       "\n",
       "                                        authors     categories  \\\n",
       "6628  Nikolaĭ Vasilʹevich Gogolʹ;Richard Pevear  Short stories   \n",
       "1052                                    Amy Tan        Fiction   \n",
       "6650           Upton Sinclair;Kathleen De Grave        Fiction   \n",
       "4105                              Joseph Heller        Fiction   \n",
       "3536                            Dean Ray Koontz        Fiction   \n",
       "\n",
       "                                              thumbnail  \\\n",
       "6628  http://books.google.com/books/content?id=7cNpf...   \n",
       "1052  http://books.google.com/books/content?id=n0CzD...   \n",
       "6650  http://books.google.com/books/content?id=4cY-v...   \n",
       "4105  http://books.google.com/books/content?id=X-CIL...   \n",
       "3536  http://books.google.com/books/content?id=9X7qX...   \n",
       "\n",
       "                                            description  published_year  \\\n",
       "6628  A new, annotated translation of Gogol's classi...            2003   \n",
       "1052  Winnie Louie, an aging Chinese woman convinced...            2006   \n",
       "6650  The horrifying conditions of the Chicago stock...            2003   \n",
       "4105  Bob Slocum was living the American dream. He h...            1974   \n",
       "3536  The sole survivor of a homicidal sociopath's l...            2000   \n",
       "\n",
       "      average_rating  num_pages  ratings_count  \n",
       "6628            4.35        435             81  \n",
       "1052            4.00        416          64285  \n",
       "6650            3.73        335         106675  \n",
       "4105            3.52        576           5983  \n",
       "3536            4.04        436          62698  "
      ]
     },
     "execution_count": 41,
     "metadata": {},
     "output_type": "execute_result"
    }
   ],
   "source": [
    "df.sample(5)"
   ]
  },
  {
   "cell_type": "code",
   "execution_count": 59,
   "metadata": {},
   "outputs": [
    {
     "name": "stdout",
     "output_type": "stream",
     "text": [
      "<class 'pandas.core.frame.DataFrame'>\n",
      "RangeIndex: 6810 entries, 0 to 6809\n",
      "Data columns (total 12 columns):\n",
      " #   Column          Non-Null Count  Dtype  \n",
      "---  ------          --------------  -----  \n",
      " 0   isbn13          6810 non-null   int64  \n",
      " 1   isbn10          6810 non-null   int64  \n",
      " 2   title           6810 non-null   object \n",
      " 3   subtitle        6810 non-null   object \n",
      " 4   authors         6810 non-null   object \n",
      " 5   categories      6810 non-null   object \n",
      " 6   thumbnail       6810 non-null   object \n",
      " 7   description     6810 non-null   object \n",
      " 8   published_year  6810 non-null   int64  \n",
      " 9   average_rating  6810 non-null   float64\n",
      " 10  num_pages       6810 non-null   int64  \n",
      " 11  ratings_count   6810 non-null   int64  \n",
      "dtypes: float64(1), int64(5), object(6)\n",
      "memory usage: 638.6+ KB\n"
     ]
    }
   ],
   "source": [
    "df.info()"
   ]
  },
  {
   "cell_type": "code",
   "execution_count": 22,
   "metadata": {},
   "outputs": [
    {
     "name": "stdout",
     "output_type": "stream",
     "text": [
      "isbn13            0\n",
      "isbn10            0\n",
      "title             0\n",
      "subtitle          0\n",
      "authors           0\n",
      "categories        0\n",
      "thumbnail         0\n",
      "description       0\n",
      "published_year    0\n",
      "average_rating    0\n",
      "num_pages         0\n",
      "ratings_count     0\n",
      "dtype: int64\n"
     ]
    }
   ],
   "source": [
    "print(df.isna().sum())"
   ]
  }
 ],
 "metadata": {
  "kernelspec": {
   "display_name": ".venv",
   "language": "python",
   "name": "python3"
  },
  "language_info": {
   "codemirror_mode": {
    "name": "ipython",
    "version": 3
   },
   "file_extension": ".py",
   "mimetype": "text/x-python",
   "name": "python",
   "nbconvert_exporter": "python",
   "pygments_lexer": "ipython3",
   "version": "3.12.1"
  }
 },
 "nbformat": 4,
 "nbformat_minor": 2
}
