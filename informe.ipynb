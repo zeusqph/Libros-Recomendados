{
 "cells": [
  {
   "cell_type": "code",
   "execution_count": 16,
   "metadata": {},
   "outputs": [],
   "source": [
    "import pandas as pd \n",
    "import matplotlib.pyplot as plt"
   ]
  },
  {
   "cell_type": "markdown",
   "metadata": {},
   "source": [
    "Un breve informacion sobre los tados del dataframe\n"
   ]
  },
  {
   "cell_type": "code",
   "execution_count": 2,
   "metadata": {},
   "outputs": [],
   "source": [
    "df=pd.read_csv('archivo/data.csv')\n"
   ]
  },
  {
   "cell_type": "markdown",
   "metadata": {},
   "source": [
    "Un resumen sobre los tipos de datos que tiene , las columnas, cuantos valores nulos hay."
   ]
  },
  {
   "cell_type": "code",
   "execution_count": 3,
   "metadata": {},
   "outputs": [
    {
     "name": "stdout",
     "output_type": "stream",
     "text": [
      "<class 'pandas.core.frame.DataFrame'>\n",
      "RangeIndex: 6810 entries, 0 to 6809\n",
      "Data columns (total 12 columns):\n",
      " #   Column          Non-Null Count  Dtype  \n",
      "---  ------          --------------  -----  \n",
      " 0   isbn13          6810 non-null   int64  \n",
      " 1   isbn10          6810 non-null   object \n",
      " 2   title           6810 non-null   object \n",
      " 3   subtitle        2381 non-null   object \n",
      " 4   authors         6738 non-null   object \n",
      " 5   categories      6711 non-null   object \n",
      " 6   thumbnail       6481 non-null   object \n",
      " 7   description     6548 non-null   object \n",
      " 8   published_year  6804 non-null   float64\n",
      " 9   average_rating  6767 non-null   float64\n",
      " 10  num_pages       6767 non-null   float64\n",
      " 11  ratings_count   6767 non-null   float64\n",
      "dtypes: float64(4), int64(1), object(7)\n",
      "memory usage: 638.6+ KB\n"
     ]
    }
   ],
   "source": [
    "df.info()"
   ]
  },
  {
   "cell_type": "markdown",
   "metadata": {},
   "source": [
    "Podemos ver los valores nulos en las columnas ."
   ]
  },
  {
   "cell_type": "code",
   "execution_count": 4,
   "metadata": {},
   "outputs": [
    {
     "name": "stdout",
     "output_type": "stream",
     "text": [
      "isbn13               0\n",
      "isbn10               0\n",
      "title                0\n",
      "subtitle          4429\n",
      "authors             72\n",
      "categories          99\n",
      "thumbnail          329\n",
      "description        262\n",
      "published_year       6\n",
      "average_rating      43\n",
      "num_pages           43\n",
      "ratings_count       43\n",
      "dtype: int64\n"
     ]
    }
   ],
   "source": [
    "print(df.isna().sum())"
   ]
  },
  {
   "cell_type": "markdown",
   "metadata": {},
   "source": [
    "Lo siguiente es :\n",
    "1. Limpieza de datos en los valores nulos con pandas.\n",
    "2. Reemplazar el tipo de dato a la columna correspondiente(published_year,num_pages,ratings_count) , esta en valores flotantes, corregir esos tipos de datos.\n",
    "3. Llevarlos a graficos.\n",
    "4. Llevarlos a PowerBi.\n"
   ]
  },
  {
   "cell_type": "code",
   "execution_count": 5,
   "metadata": {},
   "outputs": [
    {
     "data": {
      "text/html": [
       "<div>\n",
       "<style scoped>\n",
       "    .dataframe tbody tr th:only-of-type {\n",
       "        vertical-align: middle;\n",
       "    }\n",
       "\n",
       "    .dataframe tbody tr th {\n",
       "        vertical-align: top;\n",
       "    }\n",
       "\n",
       "    .dataframe thead th {\n",
       "        text-align: right;\n",
       "    }\n",
       "</style>\n",
       "<table border=\"1\" class=\"dataframe\">\n",
       "  <thead>\n",
       "    <tr style=\"text-align: right;\">\n",
       "      <th></th>\n",
       "      <th>isbn13</th>\n",
       "      <th>isbn10</th>\n",
       "      <th>title</th>\n",
       "      <th>subtitle</th>\n",
       "      <th>authors</th>\n",
       "      <th>categories</th>\n",
       "      <th>thumbnail</th>\n",
       "      <th>description</th>\n",
       "      <th>published_year</th>\n",
       "      <th>average_rating</th>\n",
       "      <th>num_pages</th>\n",
       "      <th>ratings_count</th>\n",
       "    </tr>\n",
       "  </thead>\n",
       "  <tbody>\n",
       "    <tr>\n",
       "      <th>1048</th>\n",
       "      <td>9780143037675</td>\n",
       "      <td>0143037676</td>\n",
       "      <td>Good Poems for Hard Times</td>\n",
       "      <td>NaN</td>\n",
       "      <td>Garrison Keillor</td>\n",
       "      <td>Poetry</td>\n",
       "      <td>http://books.google.com/books/content?id=Ap2kp...</td>\n",
       "      <td>Presents a collection of inspirational poems b...</td>\n",
       "      <td>2006.0</td>\n",
       "      <td>4.14</td>\n",
       "      <td>344.0</td>\n",
       "      <td>2611.0</td>\n",
       "    </tr>\n",
       "    <tr>\n",
       "      <th>6140</th>\n",
       "      <td>9781569708859</td>\n",
       "      <td>1569708851</td>\n",
       "      <td>The Left Hand Dreams of Him</td>\n",
       "      <td>NaN</td>\n",
       "      <td>Satoru Kannagi</td>\n",
       "      <td>Comics &amp; Graphic Novels</td>\n",
       "      <td>http://books.google.com/books/content?id=UBd0A...</td>\n",
       "      <td>The growing romance between high school studen...</td>\n",
       "      <td>2006.0</td>\n",
       "      <td>3.95</td>\n",
       "      <td>242.0</td>\n",
       "      <td>528.0</td>\n",
       "    </tr>\n",
       "    <tr>\n",
       "      <th>2582</th>\n",
       "      <td>9780425181607</td>\n",
       "      <td>042518160X</td>\n",
       "      <td>Stephen King's Danse Macabre</td>\n",
       "      <td>NaN</td>\n",
       "      <td>Stephen King</td>\n",
       "      <td>Fiction</td>\n",
       "      <td>http://books.google.com/books/content?id=HxuOP...</td>\n",
       "      <td>The best-selling author offers a subjective to...</td>\n",
       "      <td>2001.0</td>\n",
       "      <td>3.63</td>\n",
       "      <td>400.0</td>\n",
       "      <td>20474.0</td>\n",
       "    </tr>\n",
       "    <tr>\n",
       "      <th>3204</th>\n",
       "      <td>9780486431840</td>\n",
       "      <td>0486431843</td>\n",
       "      <td>The Jew of Malta</td>\n",
       "      <td>NaN</td>\n",
       "      <td>Christopher Marlowe;Havelock Ellis</td>\n",
       "      <td>Drama</td>\n",
       "      <td>http://books.google.com/books/content?id=qjp-J...</td>\n",
       "      <td>Prejudice, the intricacies of Mediterranean po...</td>\n",
       "      <td>2003.0</td>\n",
       "      <td>3.61</td>\n",
       "      <td>80.0</td>\n",
       "      <td>2822.0</td>\n",
       "    </tr>\n",
       "    <tr>\n",
       "      <th>3781</th>\n",
       "      <td>9780618711659</td>\n",
       "      <td>0618711651</td>\n",
       "      <td>Extremely Loud and Incredibly Close</td>\n",
       "      <td>NaN</td>\n",
       "      <td>Jonathan Safran Foer</td>\n",
       "      <td>Fiction</td>\n",
       "      <td>http://books.google.com/books/content?id=FHEy-...</td>\n",
       "      <td>Oskar Schell, the nine-year-old son of a man k...</td>\n",
       "      <td>2006.0</td>\n",
       "      <td>3.98</td>\n",
       "      <td>326.0</td>\n",
       "      <td>325230.0</td>\n",
       "    </tr>\n",
       "  </tbody>\n",
       "</table>\n",
       "</div>"
      ],
      "text/plain": [
       "             isbn13      isbn10                                title subtitle  \\\n",
       "1048  9780143037675  0143037676            Good Poems for Hard Times      NaN   \n",
       "6140  9781569708859  1569708851          The Left Hand Dreams of Him      NaN   \n",
       "2582  9780425181607  042518160X         Stephen King's Danse Macabre      NaN   \n",
       "3204  9780486431840  0486431843                     The Jew of Malta      NaN   \n",
       "3781  9780618711659  0618711651  Extremely Loud and Incredibly Close      NaN   \n",
       "\n",
       "                                 authors               categories  \\\n",
       "1048                    Garrison Keillor                   Poetry   \n",
       "6140                      Satoru Kannagi  Comics & Graphic Novels   \n",
       "2582                        Stephen King                  Fiction   \n",
       "3204  Christopher Marlowe;Havelock Ellis                    Drama   \n",
       "3781                Jonathan Safran Foer                  Fiction   \n",
       "\n",
       "                                              thumbnail  \\\n",
       "1048  http://books.google.com/books/content?id=Ap2kp...   \n",
       "6140  http://books.google.com/books/content?id=UBd0A...   \n",
       "2582  http://books.google.com/books/content?id=HxuOP...   \n",
       "3204  http://books.google.com/books/content?id=qjp-J...   \n",
       "3781  http://books.google.com/books/content?id=FHEy-...   \n",
       "\n",
       "                                            description  published_year  \\\n",
       "1048  Presents a collection of inspirational poems b...          2006.0   \n",
       "6140  The growing romance between high school studen...          2006.0   \n",
       "2582  The best-selling author offers a subjective to...          2001.0   \n",
       "3204  Prejudice, the intricacies of Mediterranean po...          2003.0   \n",
       "3781  Oskar Schell, the nine-year-old son of a man k...          2006.0   \n",
       "\n",
       "      average_rating  num_pages  ratings_count  \n",
       "1048            4.14      344.0         2611.0  \n",
       "6140            3.95      242.0          528.0  \n",
       "2582            3.63      400.0        20474.0  \n",
       "3204            3.61       80.0         2822.0  \n",
       "3781            3.98      326.0       325230.0  "
      ]
     },
     "execution_count": 5,
     "metadata": {},
     "output_type": "execute_result"
    }
   ],
   "source": [
    "df.sample(5)"
   ]
  },
  {
   "cell_type": "markdown",
   "metadata": {},
   "source": [
    "Segun yo creo que esta mal eliminar los datos de una columna , si es que voy a utilzarlos mas adelante, yo me enfocare en hacer un grafico de algunas columnas y eliminarlos alterarria los graficos"
   ]
  },
  {
   "cell_type": "code",
   "execution_count": 9,
   "metadata": {},
   "outputs": [],
   "source": [
    "#hacemos un parametro de mediana en la columna \n",
    "# fillna() necesita que le pasemos un parametro para eso hacemos lo anterior\n",
    "mediana_año=df['published_year'].median()\n",
    "df['published_year']=df['published_year'].fillna(mediana_año).astype(int)"
   ]
  },
  {
   "cell_type": "markdown",
   "metadata": {},
   "source": [
    "Si vamos a convertir varias columnas a medianas o haremos cambios de lo mismo en varias columnas , podemos convertirlos en diccionarios y cambiarlos todo en un solo codigo.\n",
    "Pero no podemos cambiar el tipo de dato en un diccionario.\n"
   ]
  },
  {
   "cell_type": "code",
   "execution_count": 6,
   "metadata": {},
   "outputs": [],
   "source": [
    "medianas ={'published_year':df['published_year'].median(),\n",
    "           'average_rating':df['average_rating'].median(),\n",
    "           'num_pages':df['num_pages'].median(),\n",
    "           'ratings_count':df['ratings_count'].median() \n",
    "}\n",
    "df.fillna(value=medianas,inplace=True)\n",
    "\n",
    "\n",
    "columnas_a_convertir=['published_year','num_pages','ratings_count']\n",
    "\n",
    "df[columnas_a_convertir] = df[columnas_a_convertir].astype(int)\n",
    "\n"
   ]
  },
  {
   "cell_type": "code",
   "execution_count": 7,
   "metadata": {},
   "outputs": [],
   "source": [
    "df['subtitle']=df['subtitle'].fillna('No subtitle')\n",
    "df['authors']=df['authors'].fillna('Unknown authors')\n",
    "df['categories']=df['categories'].fillna('Uncategorized')\n",
    "df['description']=df['description'].fillna('No Description Available')\n",
    "df['thumbnail']=df['thumbnail'].fillna('NaN')"
   ]
  },
  {
   "cell_type": "code",
   "execution_count": 13,
   "metadata": {},
   "outputs": [
    {
     "data": {
      "text/html": [
       "<div>\n",
       "<style scoped>\n",
       "    .dataframe tbody tr th:only-of-type {\n",
       "        vertical-align: middle;\n",
       "    }\n",
       "\n",
       "    .dataframe tbody tr th {\n",
       "        vertical-align: top;\n",
       "    }\n",
       "\n",
       "    .dataframe thead th {\n",
       "        text-align: right;\n",
       "    }\n",
       "</style>\n",
       "<table border=\"1\" class=\"dataframe\">\n",
       "  <thead>\n",
       "    <tr style=\"text-align: right;\">\n",
       "      <th></th>\n",
       "      <th>isbn13</th>\n",
       "      <th>isbn10</th>\n",
       "      <th>title</th>\n",
       "      <th>subtitle</th>\n",
       "      <th>authors</th>\n",
       "      <th>categories</th>\n",
       "      <th>thumbnail</th>\n",
       "      <th>description</th>\n",
       "      <th>published_year</th>\n",
       "      <th>average_rating</th>\n",
       "      <th>num_pages</th>\n",
       "      <th>ratings_count</th>\n",
       "    </tr>\n",
       "  </thead>\n",
       "  <tbody>\n",
       "    <tr>\n",
       "      <th>2760</th>\n",
       "      <td>9780440220459</td>\n",
       "      <td>0440220459</td>\n",
       "      <td>Drop Shot</td>\n",
       "      <td>No subtitle</td>\n",
       "      <td>Harlan Coben</td>\n",
       "      <td>Fiction</td>\n",
       "      <td>http://books.google.com/books/content?id=1Wovm...</td>\n",
       "      <td>Investigating the killing of a burned-out tenn...</td>\n",
       "      <td>1996</td>\n",
       "      <td>3.93</td>\n",
       "      <td>341</td>\n",
       "      <td>19585</td>\n",
       "    </tr>\n",
       "    <tr>\n",
       "      <th>3097</th>\n",
       "      <td>9780452282193</td>\n",
       "      <td>0452282195</td>\n",
       "      <td>The Bluest Eye</td>\n",
       "      <td>No subtitle</td>\n",
       "      <td>Toni Morrison</td>\n",
       "      <td>Fiction</td>\n",
       "      <td>http://books.google.com/books/content?id=Nny9c...</td>\n",
       "      <td>The story of Pecola Breedlove profiles an elev...</td>\n",
       "      <td>1994</td>\n",
       "      <td>4.00</td>\n",
       "      <td>216</td>\n",
       "      <td>3262</td>\n",
       "    </tr>\n",
       "    <tr>\n",
       "      <th>1569</th>\n",
       "      <td>9780312643065</td>\n",
       "      <td>0312643063</td>\n",
       "      <td>The Price of the Ticket</td>\n",
       "      <td>Collected Nonfiction, 1948-1985</td>\n",
       "      <td>James Baldwin</td>\n",
       "      <td>Literary Criticism</td>\n",
       "      <td>http://books.google.com/books/content?id=VbkZx...</td>\n",
       "      <td>The works of James Baldwin constitute one of t...</td>\n",
       "      <td>1985</td>\n",
       "      <td>4.70</td>\n",
       "      <td>712</td>\n",
       "      <td>396</td>\n",
       "    </tr>\n",
       "    <tr>\n",
       "      <th>2872</th>\n",
       "      <td>9780446579629</td>\n",
       "      <td>0446579629</td>\n",
       "      <td>The Red Gloves Collection</td>\n",
       "      <td>No subtitle</td>\n",
       "      <td>Karen Kingsbury</td>\n",
       "      <td>Fiction</td>\n",
       "      <td>http://books.google.com/books/content?id=_phtv...</td>\n",
       "      <td>Compiled in this collector edition are Gideon'...</td>\n",
       "      <td>2006</td>\n",
       "      <td>4.48</td>\n",
       "      <td>640</td>\n",
       "      <td>689</td>\n",
       "    </tr>\n",
       "    <tr>\n",
       "      <th>39</th>\n",
       "      <td>9780007105045</td>\n",
       "      <td>0007105045</td>\n",
       "      <td>Tree and Leaf</td>\n",
       "      <td>The Homecoming of Beorhtnoth : Beorhthelm's Son</td>\n",
       "      <td>John Ronald Reuel Tolkien</td>\n",
       "      <td>Literary Collections</td>\n",
       "      <td>http://books.google.com/books/content?id=aPb_A...</td>\n",
       "      <td>\"The two works 'On fairy-stories' and 'Leaf by...</td>\n",
       "      <td>2001</td>\n",
       "      <td>4.09</td>\n",
       "      <td>176</td>\n",
       "      <td>2245</td>\n",
       "    </tr>\n",
       "  </tbody>\n",
       "</table>\n",
       "</div>"
      ],
      "text/plain": [
       "             isbn13      isbn10                      title  \\\n",
       "2760  9780440220459  0440220459                  Drop Shot   \n",
       "3097  9780452282193  0452282195             The Bluest Eye   \n",
       "1569  9780312643065  0312643063    The Price of the Ticket   \n",
       "2872  9780446579629  0446579629  The Red Gloves Collection   \n",
       "39    9780007105045  0007105045              Tree and Leaf   \n",
       "\n",
       "                                             subtitle  \\\n",
       "2760                                      No subtitle   \n",
       "3097                                      No subtitle   \n",
       "1569                  Collected Nonfiction, 1948-1985   \n",
       "2872                                      No subtitle   \n",
       "39    The Homecoming of Beorhtnoth : Beorhthelm's Son   \n",
       "\n",
       "                        authors            categories  \\\n",
       "2760               Harlan Coben               Fiction   \n",
       "3097              Toni Morrison               Fiction   \n",
       "1569              James Baldwin    Literary Criticism   \n",
       "2872            Karen Kingsbury               Fiction   \n",
       "39    John Ronald Reuel Tolkien  Literary Collections   \n",
       "\n",
       "                                              thumbnail  \\\n",
       "2760  http://books.google.com/books/content?id=1Wovm...   \n",
       "3097  http://books.google.com/books/content?id=Nny9c...   \n",
       "1569  http://books.google.com/books/content?id=VbkZx...   \n",
       "2872  http://books.google.com/books/content?id=_phtv...   \n",
       "39    http://books.google.com/books/content?id=aPb_A...   \n",
       "\n",
       "                                            description  published_year  \\\n",
       "2760  Investigating the killing of a burned-out tenn...            1996   \n",
       "3097  The story of Pecola Breedlove profiles an elev...            1994   \n",
       "1569  The works of James Baldwin constitute one of t...            1985   \n",
       "2872  Compiled in this collector edition are Gideon'...            2006   \n",
       "39    \"The two works 'On fairy-stories' and 'Leaf by...            2001   \n",
       "\n",
       "      average_rating  num_pages  ratings_count  \n",
       "2760            3.93        341          19585  \n",
       "3097            4.00        216           3262  \n",
       "1569            4.70        712            396  \n",
       "2872            4.48        640            689  \n",
       "39              4.09        176           2245  "
      ]
     },
     "execution_count": 13,
     "metadata": {},
     "output_type": "execute_result"
    }
   ],
   "source": [
    "df.sample(5)"
   ]
  },
  {
   "cell_type": "code",
   "execution_count": 9,
   "metadata": {},
   "outputs": [
    {
     "name": "stdout",
     "output_type": "stream",
     "text": [
      "<class 'pandas.core.frame.DataFrame'>\n",
      "RangeIndex: 6810 entries, 0 to 6809\n",
      "Data columns (total 12 columns):\n",
      " #   Column          Non-Null Count  Dtype  \n",
      "---  ------          --------------  -----  \n",
      " 0   isbn13          6810 non-null   int64  \n",
      " 1   isbn10          6810 non-null   object \n",
      " 2   title           6810 non-null   object \n",
      " 3   subtitle        6810 non-null   object \n",
      " 4   authors         6810 non-null   object \n",
      " 5   categories      6810 non-null   object \n",
      " 6   thumbnail       6810 non-null   object \n",
      " 7   description     6810 non-null   object \n",
      " 8   published_year  6810 non-null   int64  \n",
      " 9   average_rating  6810 non-null   float64\n",
      " 10  num_pages       6810 non-null   int64  \n",
      " 11  ratings_count   6810 non-null   int64  \n",
      "dtypes: float64(1), int64(4), object(7)\n",
      "memory usage: 638.6+ KB\n"
     ]
    }
   ],
   "source": [
    "df.info()"
   ]
  },
  {
   "cell_type": "code",
   "execution_count": 10,
   "metadata": {},
   "outputs": [
    {
     "name": "stdout",
     "output_type": "stream",
     "text": [
      "isbn13            0\n",
      "isbn10            0\n",
      "title             0\n",
      "subtitle          0\n",
      "authors           0\n",
      "categories        0\n",
      "thumbnail         0\n",
      "description       0\n",
      "published_year    0\n",
      "average_rating    0\n",
      "num_pages         0\n",
      "ratings_count     0\n",
      "dtype: int64\n"
     ]
    }
   ],
   "source": [
    "print(df.isna().sum())"
   ]
  },
  {
   "cell_type": "markdown",
   "metadata": {},
   "source": [
    "1. Los libros mas publicados en un solo año"
   ]
  },
  {
   "cell_type": "code",
   "execution_count": 15,
   "metadata": {},
   "outputs": [
    {
     "data": {
      "image/png": "[encoded data removed]",
      "text/plain": [
       "<Figure size 640x480 with 1 Axes>"
      ]
     },
     "metadata": {},
     "output_type": "display_data"
    }
   ],
   "source": [
    "top_books = df['title'].value_counts().nlargest(8)\n",
    "\n",
    "filter_df= df[df['title'].isin(top_books.index) ]\n",
    "\n",
    "filter_df=filter_df.groupby('title')['published_year'].first().reset_index()\n",
    "\n",
    "filter_df['count']=top_books.values\n",
    "\n",
    "filter_df['title_year'] = filter_df['title']+'(' + filter_df['published_year'].astype(str)+')'\n",
    "\n",
    "plt.bar(filter_df['title_year'],filter_df['count'],color='skyblue')\n",
    "\n",
    "plt.title('Los libros mayor pubplicados y sus respectivos anos')\n",
    "plt.xlabel('Titulos de libros')\n",
    "plt.ylabel('Cantidad publicadas')\n",
    "\n",
    "plt.xticks(rotation=45,ha='right')\n",
    "plt.tight_layout()\n",
    "\n",
    "plt.show()"
   ]
  },
  {
   "cell_type": "code",
   "execution_count": 24,
   "metadata": {},
   "outputs": [
    {
     "data": {
      "image/png": "[encoded data removed]",
      "text/plain": [
       "<Figure size 640x480 with 1 Axes>"
      ]
     },
     "metadata": {},
     "output_type": "display_data"
    },
    {
     "name": "stdout",
     "output_type": "stream",
     "text": [
      "Bill Gates - Año de publicación: 2001\n",
      "Colossians and Philemon - Año de publicación: 2005\n",
      "Ecuador Nature Guide - Año de publicación: 2000\n",
      "Fanning the Flame - Año de publicación: 2003\n",
      "Insights - Año de publicación: 2003\n",
      "Lake Orion - Año de publicación: 2006\n",
      "Middlesex Borough - Año de publicación: 2003\n",
      "The Complete Theory Fun Factory - Año de publicación: 1996\n"
     ]
    }
   ],
   "source": [
    "\n",
    "\n",
    "top_8_books = df.groupby('title')['average_rating'].mean().nlargest(8)\n",
    "\n",
    "top_8_years = df[df['title'].isin(top_8_books.index)].drop_duplicates('title')[['title', 'published_year']]\n",
    "\n",
    "plt.bar(top_8_books.index, top_8_books.values, color='lightgreen')\n",
    "\n",
    "\n",
    "plt.title(f'Calificación promedio de los 8 libros con mejor rating')\n",
    "plt.xlabel('Título del libro')\n",
    "plt.ylabel('Calificación promedio')\n",
    "plt.xticks(rotation=45, ha='right')\n",
    "plt.tight_layout()\n",
    "plt.show()\n",
    "\n",
    "for title in top_8_books.index:\n",
    "    year = top_8_years[top_8_years['title'] == title]['published_year'].iloc[0]\n",
    "    print(f'{title} - Año de publicación: {year}')\n"
   ]
  }
 ],
 "metadata": {
  "kernelspec": {
   "display_name": ".venv",
   "language": "python",
   "name": "python3"
  },
  "language_info": {
   "codemirror_mode": {
    "name": "ipython",
    "version": 3
   },
   "file_extension": ".py",
   "mimetype": "text/x-python",
   "name": "python",
   "nbconvert_exporter": "python",
   "pygments_lexer": "ipython3",
   "version": "3.12.1"
  }
 },
 "nbformat": 4,
 "nbformat_minor": 2
}
